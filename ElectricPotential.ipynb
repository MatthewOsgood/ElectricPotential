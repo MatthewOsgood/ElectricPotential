{
 "cells": [
  {
   "cell_type": "code",
   "execution_count": 58,
   "id": "initial_id",
   "metadata": {
    "collapsed": true,
    "ExecuteTime": {
     "end_time": "2024-02-01T14:52:52.824096Z",
     "start_time": "2024-02-01T14:52:52.811001Z"
    }
   },
   "outputs": [],
   "source": [
    "import numpy as np"
   ]
  },
  {
   "cell_type": "code",
   "execution_count": 59,
   "outputs": [],
   "source": [
    "def find_potential(v, n):\n",
    "    \"\"\"\n",
    "    :param n: the number of iterations to run. Higher -> more accurate\n",
    "    :param v: a 2D array representing the region of space with values of potential along the boundaries\n",
    "    :return: the updated potential\n",
    "    \"\"\"\n",
    "    shape = v.shape\n",
    "    for _ in range(n):\n",
    "        for i in range(1, shape[0] - 1):\n",
    "            for j in range(1, shape[1] - 1):\n",
    "                v[i, j] = (v[i - 1, j] + v[i + 1, j] + v[i, j - 1] + v[i, j + 1]) / 4  # average of surrounding values\n",
    "    return v"
   ],
   "metadata": {
    "collapsed": false,
    "ExecuteTime": {
     "end_time": "2024-02-01T14:52:55.142041Z",
     "start_time": "2024-02-01T14:52:55.137448Z"
    }
   },
   "id": "554a50018056dd28"
  },
  {
   "cell_type": "code",
   "execution_count": 60,
   "outputs": [
    {
     "name": "stdout",
     "output_type": "stream",
     "text": [
      "[[4.         4.         4.         4.         4.        ]\n",
      " [4.         3.99999998 3.99999999 4.         4.        ]\n",
      " [4.         4.         4.         4.         4.        ]]\n"
     ]
    }
   ],
   "source": [
    "v = np.zeros((3, 5))\n",
    "shape = v.shape\n",
    "v[0] += 4\n",
    "v[2] += 4\n",
    "v[1, 4] = 4\n",
    "v[1, 0] = 4\n",
    "\n",
    "print(find_potential(v, 10))"
   ],
   "metadata": {
    "collapsed": false,
    "ExecuteTime": {
     "end_time": "2024-02-01T14:53:01.004722Z",
     "start_time": "2024-02-01T14:53:01.001819Z"
    }
   },
   "id": "80f945cc262eaf7"
  },
  {
   "cell_type": "code",
   "execution_count": 43,
   "outputs": [],
   "source": [],
   "metadata": {
    "collapsed": false
   },
   "id": "f07ea4fc4fdeb800"
  }
 ],
 "metadata": {
  "kernelspec": {
   "display_name": "Python 3",
   "language": "python",
   "name": "python3"
  },
  "language_info": {
   "codemirror_mode": {
    "name": "ipython",
    "version": 2
   },
   "file_extension": ".py",
   "mimetype": "text/x-python",
   "name": "python",
   "nbconvert_exporter": "python",
   "pygments_lexer": "ipython2",
   "version": "2.7.6"
  }
 },
 "nbformat": 4,
 "nbformat_minor": 5
}
